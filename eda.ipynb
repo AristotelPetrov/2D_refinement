{
 "cells": [
  {
   "cell_type": "code",
   "execution_count": 3,
   "metadata": {},
   "outputs": [],
   "source": [
    "import pandas as pd\n",
    "import matplotlib.pyplot as plt \n"
   ]
  },
  {
   "cell_type": "code",
   "execution_count": 29,
   "metadata": {},
   "outputs": [],
   "source": [
    "def pseudoknots_count(seq):\n",
    "\n",
    "    b1 = 0\n",
    "    b2 = 0\n",
    "    b3 = 0\n",
    "    for s in seq:\n",
    "        if s == '(':\n",
    "            b1 += 1\n",
    "\n",
    "        elif s == '[':\n",
    "            b2 += 1\n",
    "\n",
    "        elif s == '{':\n",
    "            b3 += 1\n",
    "\n",
    "    pseudo1 = (b2/(b1+b2+b3))*100\n",
    "    pseudo2 = (b3/(b1+b2+b3))*100\n",
    "\n",
    "    print('% of [', '% of {', sep='     ')\n",
    "    print(round(pseudo1, 2), '%','   ', round(pseudo2, 2),'%')\n"
   ]
  },
  {
   "cell_type": "code",
   "execution_count": null,
   "metadata": {},
   "outputs": [],
   "source": [
    "def find_matching_parentheses_indexes(s):\n",
    "    stack1 = []\n",
    "    stack2 = []\n",
    "    stack3 = []\n",
    "    result = []\n",
    "    \n",
    "    for i, char in enumerate(s):\n",
    "        if char == '(':\n",
    "            stack1.append(i)\n",
    "        elif char == '[':\n",
    "            stack2.append(i)\n",
    "        elif char == '{':\n",
    "            stack3.append(i)\n",
    "        elif char == ')':\n",
    "            if stack1:\n",
    "                result.append((stack1.pop(), i))\n",
    "        elif char == ']':\n",
    "            if stack2:\n",
    "                result.append((stack2.pop(), i))\n",
    "        elif char == '}':\n",
    "            if stack3:\n",
    "                result.append((stack3.pop(), i))\n",
    "    \n",
    "    return result\n",
    "\n",
    "def gu_count(seq, seq2d):\n",
    "    gu = [('G', 'U'), ('U', 'G'), ('G', 'T'), ('T', 'G')]\n",
    "\n",
    "    pairs = find_matching_parentheses_indexes(seq2d)\n",
    "    l = len(pairs)\n",
    "    counter = 0\n",
    "    for pair in pairs:\n",
    "        if (seq[pair[0]], seq[pair[1]]) in gu:\n",
    "            counter +=1\n",
    "\n",
    "    ans = (counter*100)/l\n",
    "    print('G-U =', round(ans, 2), '% of pairs')\n",
    "\n",
    "def pairscount(seq):\n",
    "    brackets = list('()[]{}')\n",
    "    counter = 0\n",
    "\n",
    "    for s in seq:\n",
    "        if s in brackets:\n",
    "            counter += 1\n",
    "\n",
    "    ans = (counter/len(seq))*100\n",
    "    print('% of paired nt out of all nt =', round(ans, 2))\n",
    "\n",
    "\n"
   ]
  },
  {
   "cell_type": "code",
   "execution_count": 49,
   "metadata": {},
   "outputs": [
    {
     "data": {
      "text/plain": [
       "<Axes: >"
      ]
     },
     "execution_count": 49,
     "metadata": {},
     "output_type": "execute_result"
    },
    {
     "data": {
      "image/png": "[encoded data removed]",
      "text/plain": [
       "<Figure size 640x480 with 1 Axes>"
      ]
     },
     "metadata": {},
     "output_type": "display_data"
    }
   ],
   "source": [
    "db = pd.read_csv('data.csv')\n",
    "db['NAtype'].hist()"
   ]
  },
  {
   "cell_type": "code",
   "execution_count": 43,
   "metadata": {},
   "outputs": [],
   "source": [
    "dnarna = ''.join(list(db['2D']))\n",
    "dnarna_seq = ''.join(list(db['Sequence']))\n",
    "\n",
    "rnadb = db[db['NAtype'] == 'RNA']\n",
    "rna = ''.join(list(rnadb['2D']))\n",
    "rna_seq = ''.join(list(rnadb['Sequence']))\n",
    "\n",
    "dnadb = db[db['NAtype'] == 'DNA']\n",
    "dna = ''.join(list(dnadb['2D']))\n",
    "dna_seq = ''.join(list(dnadb['Sequence']))"
   ]
  },
  {
   "cell_type": "code",
   "execution_count": 51,
   "metadata": {},
   "outputs": [
    {
     "name": "stdout",
     "output_type": "stream",
     "text": [
      "% of paired nt\n",
      "---------\n",
      "DNA+RNA\n",
      "% of paired nt out of all nt = 59.0\n",
      "---------\n",
      "RNA\n",
      "% of paired nt out of all nt = 59.78\n",
      "---------\n",
      "DNA\n",
      "% of paired nt out of all nt = 49.92\n"
     ]
    }
   ],
   "source": [
    "print('% of paired nt')\n",
    "print('---------')\n",
    "print('DNA+RNA')\n",
    "pairscount(dnarna)\n",
    "print('---------')\n",
    "print('RNA')\n",
    "pairscount(rna)\n",
    "print('---------')\n",
    "print('DNA')\n",
    "pairscount(dna)"
   ]
  },
  {
   "cell_type": "code",
   "execution_count": null,
   "metadata": {},
   "outputs": [
    {
     "name": "stdout",
     "output_type": "stream",
     "text": [
      "% of pseudoknoted base pairs of all base pairs\n",
      "---------\n",
      "DNA+RNA\n",
      "% of [     % of {\n",
      "8.3 %     0.55 %\n",
      "---------\n",
      "RNA\n",
      "% of [     % of {\n",
      "8.68 %     0.59 %\n",
      "---------\n",
      "DNA\n",
      "% of [     % of {\n",
      "2.97 %     0.0 %\n"
     ]
    }
   ],
   "source": [
    "print('% of pseudoknoted base pairs of all base pairs')\n",
    "print('---------')\n",
    "print('DNA+RNA')\n",
    "pseudoknots_count(dnarna)\n",
    "print('---------')\n",
    "print('RNA')\n",
    "pseudoknots_count(rna)\n",
    "print('---------')\n",
    "print('DNA')\n",
    "pseudoknots_count(dna)"
   ]
  },
  {
   "cell_type": "code",
   "execution_count": 47,
   "metadata": {},
   "outputs": [
    {
     "name": "stdout",
     "output_type": "stream",
     "text": [
      "% of G-U/G-T base pairs of all base pairs\n",
      "---------\n",
      "DNA+RNA\n",
      "G-U = 6.05 % of pairs\n",
      "---------\n",
      "RNA\n",
      "G-U = 6.22 % of pairs\n",
      "---------\n",
      "DNA\n",
      "G-U = 3.61 % of pairs\n"
     ]
    }
   ],
   "source": [
    "print('% of G-U/G-T base pairs of all base pairs')\n",
    "print('---------')\n",
    "print('DNA+RNA')\n",
    "gu_count(dnarna_seq, dnarna)\n",
    "print('---------')\n",
    "print('RNA')\n",
    "gu_count(rna_seq, rna)\n",
    "print('---------')\n",
    "print('DNA')\n",
    "gu_count(dna_seq, dna)"
   ]
  }
 ],
 "metadata": {
  "kernelspec": {
   "display_name": "aptabench_1",
   "language": "python",
   "name": "python3"
  },
  "language_info": {
   "codemirror_mode": {
    "name": "ipython",
    "version": 3
   },
   "file_extension": ".py",
   "mimetype": "text/x-python",
   "name": "python",
   "nbconvert_exporter": "python",
   "pygments_lexer": "ipython3",
   "version": "3.12.5"
  }
 },
 "nbformat": 4,
 "nbformat_minor": 2
}
