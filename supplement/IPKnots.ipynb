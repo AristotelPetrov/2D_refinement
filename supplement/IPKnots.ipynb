{
  "cells": [
    {
      "cell_type": "markdown",
      "metadata": {
        "id": "TDPiVD2lK5sU"
      },
      "source": [
        "# Standard packages"
      ]
    },
    {
      "cell_type": "code",
      "execution_count": 6,
      "metadata": {
        "id": "RDB7DJGMoEYK"
      },
      "outputs": [],
      "source": [
        "import os\n",
        "import pandas as pd\n",
        "import time"
      ]
    },
    {
      "cell_type": "markdown",
      "metadata": {
        "id": "I6bOkFD6K-8K"
      },
      "source": [
        "# Specific installs\n",
        "\n",
        "IPKnot need ViennaRNA"
      ]
    },
    {
      "cell_type": "code",
      "execution_count": 1,
      "metadata": {
        "id": "xwSM-JQ5yKF4"
      },
      "outputs": [],
      "source": [
        "method_name = \"IPknot\""
      ]
    },
    {
      "cell_type": "code",
      "execution_count": 2,
      "metadata": {
        "id": "A0n2MN2-F8l9",
        "outputId": "efdb782c-00a2-4a98-c18e-80a0aa82276e",
        "colab": {
          "base_uri": "https://localhost:8080/"
        }
      },
      "outputs": [
        {
          "output_type": "stream",
          "name": "stdout",
          "text": [
            "rm: cannot remove '*.deb': No such file or directory\n",
            "--2024-11-08 19:06:24--  https://www.tbi.univie.ac.at/RNA/download/ubuntu/ubuntu_18_04/viennarna_2.5.0-1_amd64.deb\n",
            "Resolving www.tbi.univie.ac.at (www.tbi.univie.ac.at)... 131.130.44.61\n",
            "Connecting to www.tbi.univie.ac.at (www.tbi.univie.ac.at)|131.130.44.61|:443... connected.\n",
            "HTTP request sent, awaiting response... 200 OK\n",
            "Length: 3448392 (3.3M) [application/x-debian-package]\n",
            "Saving to: ‘viennarna_2.5.0-1_amd64.deb’\n",
            "\n",
            "viennarna_2.5.0-1_a 100%[===================>]   3.29M  3.57MB/s    in 0.9s    \n",
            "\n",
            "2024-11-08 19:06:26 (3.57 MB/s) - ‘viennarna_2.5.0-1_amd64.deb’ saved [3448392/3448392]\n",
            "\n",
            "--2024-11-08 19:06:26--  https://www.tbi.univie.ac.at/RNA/download/ubuntu/ubuntu_18_04/viennarna-dev_2.5.0-1_amd64.deb\n",
            "Resolving www.tbi.univie.ac.at (www.tbi.univie.ac.at)... 131.130.44.61\n",
            "Connecting to www.tbi.univie.ac.at (www.tbi.univie.ac.at)|131.130.44.61|:443... connected.\n",
            "HTTP request sent, awaiting response... 200 OK\n",
            "Length: 43601504 (42M) [application/x-debian-package]\n",
            "Saving to: ‘viennarna-dev_2.5.0-1_amd64.deb’\n",
            "\n",
            "viennarna-dev_2.5.0 100%[===================>]  41.58M  15.0MB/s    in 2.8s    \n",
            "\n",
            "2024-11-08 19:06:30 (15.0 MB/s) - ‘viennarna-dev_2.5.0-1_amd64.deb’ saved [43601504/43601504]\n",
            "\n",
            "Reading package lists...\n",
            "Building dependency tree...\n",
            "Reading state information...\n",
            "Some packages could not be installed. This may mean that you have\n",
            "requested an impossible situation or if you are using the unstable\n",
            "distribution that some required packages have not yet been created\n",
            "or been moved out of Incoming.\n",
            "The following information may help to resolve the situation:\n",
            "\n",
            "The following packages have unmet dependencies:\n",
            " viennarna : Depends: libgsl23 but it is not installable\n",
            "             Recommends: python-rna but it is not installable\n",
            "             Recommends: perl-rna but it is not installable\n",
            "E: Unable to correct problems, you have held broken packages.\n"
          ]
        }
      ],
      "source": [
        "!rm *.deb\n",
        "!wget https://www.tbi.univie.ac.at/RNA/download/ubuntu/ubuntu_18_04/viennarna_2.5.0-1_amd64.deb\n",
        "!wget https://www.tbi.univie.ac.at/RNA/download/ubuntu/ubuntu_18_04/viennarna-dev_2.5.0-1_amd64.deb\n",
        "!apt-get -q install ./viennarna_2.5.0-1_amd64.deb ./viennarna-dev_2.5.0-1_amd64.deb"
      ]
    },
    {
      "cell_type": "markdown",
      "metadata": {
        "id": "j6j-nCc-48Q2"
      },
      "source": [
        "Also needs GLPK"
      ]
    },
    {
      "cell_type": "code",
      "execution_count": 3,
      "metadata": {
        "id": "a7Vu9Pxz5Ay9",
        "outputId": "614bbff7-a8b4-4371-d5a6-1925e359bb51",
        "colab": {
          "base_uri": "https://localhost:8080/"
        }
      },
      "outputs": [
        {
          "output_type": "stream",
          "name": "stdout",
          "text": [
            "Reading package lists...\n",
            "Building dependency tree...\n",
            "Reading state information...\n",
            "The following additional packages will be installed:\n",
            "  libamd2 libbtf1 libcamd2 libccolamd2 libcholmod3 libcolamd2 libcxsparse3 libglpk40 libgmp-dev\n",
            "  libgmpxx4ldbl libgraphblas-dev libgraphblas6 libklu1 libldl2 libmetis5 libmongoose2 librbio2\n",
            "  libsliplu1 libspqr2 libsuitesparse-dev libsuitesparseconfig5 libumfpack5\n",
            "Suggested packages:\n",
            "  libiodbc2-dev gmp-doc libgmp10-doc libmpfr-dev\n",
            "The following NEW packages will be installed:\n",
            "  glpk-utils libamd2 libbtf1 libcamd2 libccolamd2 libcholmod3 libcolamd2 libcxsparse3 libglpk-dev\n",
            "  libglpk40 libgmp-dev libgmpxx4ldbl libgraphblas-dev libgraphblas6 libklu1 libldl2 libmetis5\n",
            "  libmongoose2 librbio2 libsliplu1 libspqr2 libsuitesparse-dev libsuitesparseconfig5 libumfpack5\n",
            "0 upgraded, 24 newly installed, 0 to remove and 49 not upgraded.\n",
            "Need to get 23.7 MB of archives.\n",
            "After this operation, 175 MB of additional disk space will be used.\n",
            "Get:1 http://archive.ubuntu.com/ubuntu jammy/main amd64 libsuitesparseconfig5 amd64 1:5.10.1+dfsg-4build1 [10.4 kB]\n",
            "Get:2 http://archive.ubuntu.com/ubuntu jammy/universe amd64 libamd2 amd64 1:5.10.1+dfsg-4build1 [21.6 kB]\n",
            "Get:3 http://archive.ubuntu.com/ubuntu jammy/main amd64 libcolamd2 amd64 1:5.10.1+dfsg-4build1 [18.0 kB]\n",
            "Get:4 http://archive.ubuntu.com/ubuntu jammy/universe amd64 libglpk40 amd64 5.0-1 [361 kB]\n",
            "Get:5 http://archive.ubuntu.com/ubuntu jammy/universe amd64 glpk-utils amd64 5.0-1 [214 kB]\n",
            "Get:6 http://archive.ubuntu.com/ubuntu jammy/universe amd64 libbtf1 amd64 1:5.10.1+dfsg-4build1 [12.1 kB]\n",
            "Get:7 http://archive.ubuntu.com/ubuntu jammy/universe amd64 libcamd2 amd64 1:5.10.1+dfsg-4build1 [23.3 kB]\n",
            "Get:8 http://archive.ubuntu.com/ubuntu jammy/universe amd64 libccolamd2 amd64 1:5.10.1+dfsg-4build1 [25.2 kB]\n",
            "Get:9 http://archive.ubuntu.com/ubuntu jammy/universe amd64 libmetis5 amd64 5.1.0.dfsg-7build2 [181 kB]\n",
            "Get:10 http://archive.ubuntu.com/ubuntu jammy/universe amd64 libcholmod3 amd64 1:5.10.1+dfsg-4build1 [346 kB]\n",
            "Get:11 http://archive.ubuntu.com/ubuntu jammy/universe amd64 libcxsparse3 amd64 1:5.10.1+dfsg-4build1 [70.8 kB]\n",
            "Get:12 http://archive.ubuntu.com/ubuntu jammy/main amd64 libgmpxx4ldbl amd64 2:6.2.1+dfsg-3ubuntu1 [9,580 B]\n",
            "Get:13 http://archive.ubuntu.com/ubuntu jammy/main amd64 libgmp-dev amd64 2:6.2.1+dfsg-3ubuntu1 [337 kB]\n",
            "Get:14 http://archive.ubuntu.com/ubuntu jammy/universe amd64 libklu1 amd64 1:5.10.1+dfsg-4build1 [77.6 kB]\n",
            "Get:15 http://archive.ubuntu.com/ubuntu jammy/universe amd64 libldl2 amd64 1:5.10.1+dfsg-4build1 [11.7 kB]\n",
            "Get:16 http://archive.ubuntu.com/ubuntu jammy/universe amd64 libmongoose2 amd64 1:5.10.1+dfsg-4build1 [33.5 kB]\n",
            "Get:17 http://archive.ubuntu.com/ubuntu jammy/universe amd64 libumfpack5 amd64 1:5.10.1+dfsg-4build1 [250 kB]\n",
            "Get:18 http://archive.ubuntu.com/ubuntu jammy/universe amd64 librbio2 amd64 1:5.10.1+dfsg-4build1 [26.6 kB]\n",
            "Get:19 http://archive.ubuntu.com/ubuntu jammy/universe amd64 libspqr2 amd64 1:5.10.1+dfsg-4build1 [71.6 kB]\n",
            "Get:20 http://archive.ubuntu.com/ubuntu jammy/universe amd64 libsliplu1 amd64 1:5.10.1+dfsg-4build1 [37.1 kB]\n",
            "Get:21 http://archive.ubuntu.com/ubuntu jammy/universe amd64 libsuitesparse-dev amd64 1:5.10.1+dfsg-4build1 [1,058 kB]\n",
            "Get:22 http://archive.ubuntu.com/ubuntu jammy/universe amd64 libglpk-dev amd64 5.0-1 [430 kB]\n",
            "Get:23 http://archive.ubuntu.com/ubuntu jammy/universe amd64 libgraphblas6 amd64 6.1.4+dfsg-2 [20.1 MB]\n",
            "Get:24 http://archive.ubuntu.com/ubuntu jammy/universe amd64 libgraphblas-dev amd64 6.1.4+dfsg-2 [54.4 kB]\n",
            "Fetched 23.7 MB in 1s (34.6 MB/s)\n",
            "Selecting previously unselected package libsuitesparseconfig5:amd64.\n",
            "(Reading database ... 123623 files and directories currently installed.)\n",
            "Preparing to unpack .../00-libsuitesparseconfig5_1%3a5.10.1+dfsg-4build1_amd64.deb ...\n",
            "Unpacking libsuitesparseconfig5:amd64 (1:5.10.1+dfsg-4build1) ...\n",
            "Selecting previously unselected package libamd2:amd64.\n",
            "Preparing to unpack .../01-libamd2_1%3a5.10.1+dfsg-4build1_amd64.deb ...\n",
            "Unpacking libamd2:amd64 (1:5.10.1+dfsg-4build1) ...\n",
            "Selecting previously unselected package libcolamd2:amd64.\n",
            "Preparing to unpack .../02-libcolamd2_1%3a5.10.1+dfsg-4build1_amd64.deb ...\n",
            "Unpacking libcolamd2:amd64 (1:5.10.1+dfsg-4build1) ...\n",
            "Selecting previously unselected package libglpk40:amd64.\n",
            "Preparing to unpack .../03-libglpk40_5.0-1_amd64.deb ...\n",
            "Unpacking libglpk40:amd64 (5.0-1) ...\n",
            "Selecting previously unselected package glpk-utils.\n",
            "Preparing to unpack .../04-glpk-utils_5.0-1_amd64.deb ...\n",
            "Unpacking glpk-utils (5.0-1) ...\n",
            "Selecting previously unselected package libbtf1:amd64.\n",
            "Preparing to unpack .../05-libbtf1_1%3a5.10.1+dfsg-4build1_amd64.deb ...\n",
            "Unpacking libbtf1:amd64 (1:5.10.1+dfsg-4build1) ...\n",
            "Selecting previously unselected package libcamd2:amd64.\n",
            "Preparing to unpack .../06-libcamd2_1%3a5.10.1+dfsg-4build1_amd64.deb ...\n",
            "Unpacking libcamd2:amd64 (1:5.10.1+dfsg-4build1) ...\n",
            "Selecting previously unselected package libccolamd2:amd64.\n",
            "Preparing to unpack .../07-libccolamd2_1%3a5.10.1+dfsg-4build1_amd64.deb ...\n",
            "Unpacking libccolamd2:amd64 (1:5.10.1+dfsg-4build1) ...\n",
            "Selecting previously unselected package libmetis5:amd64.\n",
            "Preparing to unpack .../08-libmetis5_5.1.0.dfsg-7build2_amd64.deb ...\n",
            "Unpacking libmetis5:amd64 (5.1.0.dfsg-7build2) ...\n",
            "Selecting previously unselected package libcholmod3:amd64.\n",
            "Preparing to unpack .../09-libcholmod3_1%3a5.10.1+dfsg-4build1_amd64.deb ...\n",
            "Unpacking libcholmod3:amd64 (1:5.10.1+dfsg-4build1) ...\n",
            "Selecting previously unselected package libcxsparse3:amd64.\n",
            "Preparing to unpack .../10-libcxsparse3_1%3a5.10.1+dfsg-4build1_amd64.deb ...\n",
            "Unpacking libcxsparse3:amd64 (1:5.10.1+dfsg-4build1) ...\n",
            "Selecting previously unselected package libgmpxx4ldbl:amd64.\n",
            "Preparing to unpack .../11-libgmpxx4ldbl_2%3a6.2.1+dfsg-3ubuntu1_amd64.deb ...\n",
            "Unpacking libgmpxx4ldbl:amd64 (2:6.2.1+dfsg-3ubuntu1) ...\n",
            "Selecting previously unselected package libgmp-dev:amd64.\n",
            "Preparing to unpack .../12-libgmp-dev_2%3a6.2.1+dfsg-3ubuntu1_amd64.deb ...\n",
            "Unpacking libgmp-dev:amd64 (2:6.2.1+dfsg-3ubuntu1) ...\n",
            "Selecting previously unselected package libklu1:amd64.\n",
            "Preparing to unpack .../13-libklu1_1%3a5.10.1+dfsg-4build1_amd64.deb ...\n",
            "Unpacking libklu1:amd64 (1:5.10.1+dfsg-4build1) ...\n",
            "Selecting previously unselected package libldl2:amd64.\n",
            "Preparing to unpack .../14-libldl2_1%3a5.10.1+dfsg-4build1_amd64.deb ...\n",
            "Unpacking libldl2:amd64 (1:5.10.1+dfsg-4build1) ...\n",
            "Selecting previously unselected package libmongoose2:amd64.\n",
            "Preparing to unpack .../15-libmongoose2_1%3a5.10.1+dfsg-4build1_amd64.deb ...\n",
            "Unpacking libmongoose2:amd64 (1:5.10.1+dfsg-4build1) ...\n",
            "Selecting previously unselected package libumfpack5:amd64.\n",
            "Preparing to unpack .../16-libumfpack5_1%3a5.10.1+dfsg-4build1_amd64.deb ...\n",
            "Unpacking libumfpack5:amd64 (1:5.10.1+dfsg-4build1) ...\n",
            "Selecting previously unselected package librbio2:amd64.\n",
            "Preparing to unpack .../17-librbio2_1%3a5.10.1+dfsg-4build1_amd64.deb ...\n",
            "Unpacking librbio2:amd64 (1:5.10.1+dfsg-4build1) ...\n",
            "Selecting previously unselected package libspqr2:amd64.\n",
            "Preparing to unpack .../18-libspqr2_1%3a5.10.1+dfsg-4build1_amd64.deb ...\n",
            "Unpacking libspqr2:amd64 (1:5.10.1+dfsg-4build1) ...\n",
            "Selecting previously unselected package libsliplu1:amd64.\n",
            "Preparing to unpack .../19-libsliplu1_1%3a5.10.1+dfsg-4build1_amd64.deb ...\n",
            "Unpacking libsliplu1:amd64 (1:5.10.1+dfsg-4build1) ...\n",
            "Selecting previously unselected package libsuitesparse-dev:amd64.\n",
            "Preparing to unpack .../20-libsuitesparse-dev_1%3a5.10.1+dfsg-4build1_amd64.deb ...\n",
            "Unpacking libsuitesparse-dev:amd64 (1:5.10.1+dfsg-4build1) ...\n",
            "Selecting previously unselected package libglpk-dev:amd64.\n",
            "Preparing to unpack .../21-libglpk-dev_5.0-1_amd64.deb ...\n",
            "Unpacking libglpk-dev:amd64 (5.0-1) ...\n",
            "Selecting previously unselected package libgraphblas6:amd64.\n",
            "Preparing to unpack .../22-libgraphblas6_6.1.4+dfsg-2_amd64.deb ...\n",
            "Unpacking libgraphblas6:amd64 (6.1.4+dfsg-2) ...\n",
            "Selecting previously unselected package libgraphblas-dev:amd64.\n",
            "Preparing to unpack .../23-libgraphblas-dev_6.1.4+dfsg-2_amd64.deb ...\n",
            "Unpacking libgraphblas-dev:amd64 (6.1.4+dfsg-2) ...\n",
            "Setting up libgraphblas6:amd64 (6.1.4+dfsg-2) ...\n",
            "Setting up libldl2:amd64 (1:5.10.1+dfsg-4build1) ...\n",
            "Setting up libmetis5:amd64 (5.1.0.dfsg-7build2) ...\n",
            "Setting up libbtf1:amd64 (1:5.10.1+dfsg-4build1) ...\n",
            "Setting up libgraphblas-dev:amd64 (6.1.4+dfsg-2) ...\n",
            "Setting up libgmpxx4ldbl:amd64 (2:6.2.1+dfsg-3ubuntu1) ...\n",
            "Setting up libcxsparse3:amd64 (1:5.10.1+dfsg-4build1) ...\n",
            "Setting up libsuitesparseconfig5:amd64 (1:5.10.1+dfsg-4build1) ...\n",
            "Setting up librbio2:amd64 (1:5.10.1+dfsg-4build1) ...\n",
            "Setting up libamd2:amd64 (1:5.10.1+dfsg-4build1) ...\n",
            "Setting up libgmp-dev:amd64 (2:6.2.1+dfsg-3ubuntu1) ...\n",
            "Setting up libcolamd2:amd64 (1:5.10.1+dfsg-4build1) ...\n",
            "Setting up libsliplu1:amd64 (1:5.10.1+dfsg-4build1) ...\n",
            "Setting up libcamd2:amd64 (1:5.10.1+dfsg-4build1) ...\n",
            "Setting up libmongoose2:amd64 (1:5.10.1+dfsg-4build1) ...\n",
            "Setting up libglpk40:amd64 (5.0-1) ...\n",
            "Setting up glpk-utils (5.0-1) ...\n",
            "Setting up libklu1:amd64 (1:5.10.1+dfsg-4build1) ...\n",
            "Setting up libccolamd2:amd64 (1:5.10.1+dfsg-4build1) ...\n",
            "Setting up libcholmod3:amd64 (1:5.10.1+dfsg-4build1) ...\n",
            "Setting up libspqr2:amd64 (1:5.10.1+dfsg-4build1) ...\n",
            "Setting up libumfpack5:amd64 (1:5.10.1+dfsg-4build1) ...\n",
            "Setting up libsuitesparse-dev:amd64 (1:5.10.1+dfsg-4build1) ...\n",
            "Setting up libglpk-dev:amd64 (5.0-1) ...\n",
            "Processing triggers for man-db (2.10.2-1) ...\n",
            "Processing triggers for libc-bin (2.35-0ubuntu3.4) ...\n",
            "/sbin/ldconfig.real: /usr/local/lib/libhwloc.so.15 is not a symbolic link\n",
            "\n",
            "/sbin/ldconfig.real: /usr/local/lib/libtbbbind_2_0.so.3 is not a symbolic link\n",
            "\n",
            "/sbin/ldconfig.real: /usr/local/lib/libtbbmalloc.so.2 is not a symbolic link\n",
            "\n",
            "/sbin/ldconfig.real: /usr/local/lib/libtcm_debug.so.1 is not a symbolic link\n",
            "\n",
            "/sbin/ldconfig.real: /usr/local/lib/libtbb.so.12 is not a symbolic link\n",
            "\n",
            "/sbin/ldconfig.real: /usr/local/lib/libumf.so.0 is not a symbolic link\n",
            "\n",
            "/sbin/ldconfig.real: /usr/local/lib/libur_loader.so.0 is not a symbolic link\n",
            "\n",
            "/sbin/ldconfig.real: /usr/local/lib/libtbbbind_2_5.so.3 is not a symbolic link\n",
            "\n",
            "/sbin/ldconfig.real: /usr/local/lib/libtbbmalloc_proxy.so.2 is not a symbolic link\n",
            "\n",
            "/sbin/ldconfig.real: /usr/local/lib/libur_adapter_opencl.so.0 is not a symbolic link\n",
            "\n",
            "/sbin/ldconfig.real: /usr/local/lib/libur_adapter_level_zero.so.0 is not a symbolic link\n",
            "\n",
            "/sbin/ldconfig.real: /usr/local/lib/libtcm.so.1 is not a symbolic link\n",
            "\n",
            "/sbin/ldconfig.real: /usr/local/lib/libtbbbind.so.3 is not a symbolic link\n",
            "\n"
          ]
        }
      ],
      "source": [
        "!apt-get -q install glpk-utils libglpk-dev"
      ]
    },
    {
      "cell_type": "markdown",
      "metadata": {
        "id": "UfRTou5C5Fpf"
      },
      "source": [
        "Now IPKnot is installed from source"
      ]
    },
    {
      "cell_type": "code",
      "execution_count": 7,
      "metadata": {
        "id": "pEbJIyzr5LSd",
        "outputId": "7637c057-c868-4c1b-eec6-e1f2ee592b3d",
        "colab": {
          "base_uri": "https://localhost:8080/"
        }
      },
      "outputs": [
        {
          "output_type": "stream",
          "name": "stdout",
          "text": [
            "fatal: destination path 'ipknot' already exists and is not an empty directory.\n",
            "\u001b[33mCMake Warning (dev) at CMakeLists.txt:6 (enable_language):\n",
            "  project() should be called prior to this enable_language() call.\n",
            "This warning is for project developers.  Use -Wno-dev to suppress it.\n",
            "\u001b[0m\n",
            "-- The CXX compiler identification is GNU 11.4.0\n",
            "-- Detecting CXX compiler ABI info\n",
            "-- Detecting CXX compiler ABI info - done\n",
            "-- Check for working CXX compiler: /usr/bin/c++ - skipped\n",
            "-- Detecting CXX compile features\n",
            "-- Detecting CXX compile features - done\n",
            "-- The C compiler identification is GNU 11.4.0\n",
            "-- Detecting C compiler ABI info\n",
            "-- Detecting C compiler ABI info - done\n",
            "-- Check for working C compiler: /usr/bin/cc - skipped\n",
            "-- Detecting C compile features\n",
            "-- Detecting C compile features - done\n",
            "-- Found PkgConfig: /usr/bin/pkg-config (found version \"1.8.0\")\n",
            "-- Checking for module 'RNAlib2'\n",
            "--   Package 'RNAlib2', required by 'virtual:world', not found\n",
            "-- Found GLPK: /usr/lib/x86_64-linux-gnu/libglpk.so\n",
            "-- Configuring done (1.3s)\n",
            "-- Generating done (0.0s)\n",
            "-- Build files have been written to: /content/ipknot/build\n",
            "[  7%] \u001b[32mBuilding CXX object CMakeFiles/ipknot.dir/src/ipknot.cpp.o\u001b[0m\n",
            "[ 14%] \u001b[32mBuilding CXX object CMakeFiles/ipknot.dir/src/ip.cpp.o\u001b[0m\n",
            "[ 21%] \u001b[32mBuilding CXX object CMakeFiles/ipknot.dir/src/fa.cpp.o\u001b[0m\n",
            "[ 28%] \u001b[32mBuilding CXX object CMakeFiles/ipknot.dir/src/aln.cpp.o\u001b[0m\n",
            "[ 35%] \u001b[32mBuilding CXX object CMakeFiles/ipknot.dir/src/fold.cpp.o\u001b[0m\n",
            "[ 42%] \u001b[32mBuilding CXX object CMakeFiles/ipknot.dir/src/bpseq.cpp.o\u001b[0m\n",
            "[ 50%] \u001b[32mBuilding C object CMakeFiles/ipknot.dir/src/boltzmann_param.c.o\u001b[0m\n",
            "[ 57%] \u001b[32mBuilding CXX object CMakeFiles/ipknot.dir/src/nupack/nupack.cpp.o\u001b[0m\n",
            "[ 64%] \u001b[32mBuilding CXX object CMakeFiles/ipknot.dir/src/contrafold/InferenceEngine.cpp.o\u001b[0m\n",
            "[ 71%] \u001b[32mBuilding CXX object CMakeFiles/ipknot.dir/src/contrafold/ParameterManager.cpp.o\u001b[0m\n",
            "[ 78%] \u001b[32mBuilding CXX object CMakeFiles/ipknot.dir/src/contrafold/SStruct.cpp.o\u001b[0m\n",
            "[ 85%] \u001b[32mBuilding CXX object CMakeFiles/ipknot.dir/src/contrafold/Utilities.cpp.o\u001b[0m\n",
            "[ 92%] \u001b[32mBuilding CXX object CMakeFiles/ipknot.dir/src/linearpartition/LinearPartition.cpp.o\u001b[0m\n",
            "[100%] \u001b[32m\u001b[1mLinking CXX executable ipknot\u001b[0m\n",
            "[100%] Built target ipknot\n",
            "[100%] Built target ipknot\n",
            "\u001b[36mInstall the project...\u001b[0m\n",
            "-- Install configuration: \"Release\"\n",
            "-- Installing: /usr/local/bin/ipknot\n"
          ]
        }
      ],
      "source": [
        "!git clone https://github.com/satoken/ipknot.git\n",
        "os.chdir(\"ipknot\")\n",
        "!mkdir build\n",
        "os.chdir(\"build\")\n",
        "!cmake -DCMAKE_BUILD_TYPE=Release ..\n",
        "!make\n",
        "!make install # optional\n",
        "os.chdir(\"/content\")"
      ]
    },
    {
      "cell_type": "markdown",
      "metadata": {
        "id": "bCdjGI0grQpm"
      },
      "source": [
        "# S. cerevisiae (sce) 18 long non-coding RNA dataset\n",
        "Data source: https://genie.weizmann.ac.il/pubs/PARS10/data/sce_genes_folded.tab.gz"
      ]
    },
    {
      "cell_type": "code",
      "execution_count": null,
      "metadata": {
        "id": "Fmvg_3l4_TBH"
      },
      "outputs": [],
      "source": [
        "gh_path = \"https://raw.githubusercontent.com/sinc-lab/lncRNA-folding/master/data/\"\n",
        "sce = pd.read_csv(gh_path + \"sce_genes_folded.tab\", delimiter='\\t',\n",
        "                  header=None, index_col=0,\n",
        "                  names=(\"Gene ID\", \"sequence\", \"PARS-assisted folding\"))"
      ]
    },
    {
      "cell_type": "code",
      "execution_count": null,
      "metadata": {
        "id": "eeup_dp2AHrN"
      },
      "outputs": [],
      "source": [
        "# Sequences to process\n",
        "sce18 = [\"snR81\", \"snR34\", \"snR43\", \"snR44\",  \"snR31\",  \"snR10\",\n",
        "         \"snR63\", \"snR11\", \"snR82\", \"snR17b\", \"snR17a\", \"snR37\",\n",
        "         \"SCR1\",  \"SRG1\",  \"snR19\", \"snR30\",  \"LSR1\",   \"TLC1\"]"
      ]
    },
    {
      "cell_type": "markdown",
      "metadata": {
        "id": "Vz9-OyOlshXJ"
      },
      "source": [
        "# Compute structures"
      ]
    },
    {
      "cell_type": "code",
      "execution_count": null,
      "metadata": {
        "id": "6WbzBYt7uvJO"
      },
      "outputs": [],
      "source": [
        "def run_folding(fasta_name):\n",
        "\n",
        "  # Compute structure\n",
        "  os.system(\"ipknot -e lpc tmp.fasta > ipknot_tmp.fasta\")\n",
        "\n",
        "  # Clean output\n",
        "  os.system(\"sed  -i '/Long-step dual simplex will be used/d' ./ipknot_tmp.fasta\")\n",
        "\n",
        "  return \"ipknot_tmp.fasta\""
      ]
    },
    {
      "cell_type": "code",
      "execution_count": null,
      "metadata": {
        "colab": {
          "base_uri": "https://localhost:8080/"
        },
        "id": "EvIlcy1Vsd8t",
        "outputId": "d50d8523-cc53-493e-8afa-3aa8ef5a02fd"
      },
      "outputs": [
        {
          "name": "stdout",
          "output_type": "stream",
          "text": [
            "   \t lnc \t len \t time\n",
            "1/18\tsnR81 \t 201\t 0.3 s\n",
            "2/18\tsnR34 \t 203\t 0.3 s\n",
            "3/18\tsnR43 \t 209\t 0.3 s\n",
            "4/18\tsnR44 \t 211\t 0.3 s\n",
            "5/18\tsnR31 \t 225\t 0.4 s\n",
            "6/18\tsnR10 \t 245\t 0.5 s\n",
            "7/18\tsnR63 \t 255\t 0.6 s\n",
            "8/18\tsnR11 \t 258\t 1.0 s\n",
            "9/18\tsnR82 \t 268\t 0.5 s\n",
            "10/18\tsnR17b \t 332\t 1.2 s\n",
            "11/18\tsnR17a \t 333\t 1.2 s\n",
            "12/18\tsnR37 \t 386\t 1.0 s\n",
            "13/18\tSCR1 \t 522\t 10.7 s\n",
            "14/18\tSRG1 \t 551\t 3.8 s\n",
            "15/18\tsnR19 \t 568\t 2.7 s\n",
            "16/18\tsnR30 \t 606\t 2.9 s\n",
            "17/18\tLSR1 \t 1175\t 6.7 s\n",
            "18/18\tTLC1 \t 1301\t 184.8 s\n"
          ]
        }
      ],
      "source": [
        "out_fasta_name = method_name + \"_yeast18\"\n",
        "if os.path.exists(out_fasta_name + \".fasta\"): os.remove(out_fasta_name + \".fasta\")\n",
        "\n",
        "print(\"   \\t lnc \\t len \\t time\")\n",
        "for i, lnc in enumerate(sce18):\n",
        "\n",
        "  start_time = time.time()\n",
        "  seq = sce.loc[lnc][\"sequence\"]\n",
        "  print(f\"{i+1}/{len(sce18)}\\t{lnc} \\t {len(seq)}\", end='\\t')\n",
        "\n",
        "  # Write a one-sequence fasta\n",
        "  with open(\"tmp.fasta\", \"w\") as ofile:\n",
        "    ofile.write(f\">{lnc}\\n{seq}\\n\")\n",
        "\n",
        "  dot_file_name = run_folding(\"tmp.fasta\")\n",
        "\n",
        "  # Concatenate outputs\n",
        "  os.system(\"cat \" + dot_file_name + \" >> \" + out_fasta_name + \".fasta\")\n",
        "\n",
        "  print(f\"{time.time() - start_time: .1f} s\")"
      ]
    }
  ],
  "metadata": {
    "colab": {
      "name": "IPKnots.ipynb",
      "provenance": []
    },
    "kernelspec": {
      "display_name": "Python 3 (ipykernel)",
      "language": "python",
      "name": "python3"
    },
    "language_info": {
      "codemirror_mode": {
        "name": "ipython",
        "version": 3
      },
      "file_extension": ".py",
      "mimetype": "text/x-python",
      "name": "python",
      "nbconvert_exporter": "python",
      "pygments_lexer": "ipython3",
      "version": "3.9.10"
    }
  },
  "nbformat": 4,
  "nbformat_minor": 0
}